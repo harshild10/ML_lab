{
 "cells": [
  {
   "cell_type": "code",
   "execution_count": 2,
   "metadata": {
    "colab": {
     "base_uri": "https://localhost:8080/"
    },
    "id": "actv8L3rhSXO",
    "outputId": "6d027f75-0a5d-43a4-e361-903391b90ba2"
   },
   "outputs": [
    {
     "name": "stdout",
     "output_type": "stream",
     "text": [
      "Collecting pgmpy\n",
      "\u001b[?25l  Downloading https://files.pythonhosted.org/packages/a3/0e/d9fadbfaa35e010c04d43acd3ae9fbefec98897dd7d61a6b7eb5a8b34072/pgmpy-0.1.14-py3-none-any.whl (331kB)\n",
      "\r",
      "\u001b[K     |█                               | 10kB 13.7MB/s eta 0:00:01\r",
      "\u001b[K     |██                              | 20kB 13.0MB/s eta 0:00:01\r",
      "\u001b[K     |███                             | 30kB 8.5MB/s eta 0:00:01\r",
      "\u001b[K     |████                            | 40kB 7.3MB/s eta 0:00:01\r",
      "\u001b[K     |█████                           | 51kB 5.3MB/s eta 0:00:01\r",
      "\u001b[K     |██████                          | 61kB 5.6MB/s eta 0:00:01\r",
      "\u001b[K     |███████                         | 71kB 6.1MB/s eta 0:00:01\r",
      "\u001b[K     |████████                        | 81kB 6.0MB/s eta 0:00:01\r",
      "\u001b[K     |█████████                       | 92kB 6.6MB/s eta 0:00:01\r",
      "\u001b[K     |█████████▉                      | 102kB 5.2MB/s eta 0:00:01\r",
      "\u001b[K     |██████████▉                     | 112kB 5.2MB/s eta 0:00:01\r",
      "\u001b[K     |███████████▉                    | 122kB 5.2MB/s eta 0:00:01\r",
      "\u001b[K     |████████████▉                   | 133kB 5.2MB/s eta 0:00:01\r",
      "\u001b[K     |█████████████▉                  | 143kB 5.2MB/s eta 0:00:01\r",
      "\u001b[K     |██████████████▉                 | 153kB 5.2MB/s eta 0:00:01\r",
      "\u001b[K     |███████████████▉                | 163kB 5.2MB/s eta 0:00:01\r",
      "\u001b[K     |████████████████▉               | 174kB 5.2MB/s eta 0:00:01\r",
      "\u001b[K     |█████████████████▉              | 184kB 5.2MB/s eta 0:00:01\r",
      "\u001b[K     |██████████████████▉             | 194kB 5.2MB/s eta 0:00:01\r",
      "\u001b[K     |███████████████████▊            | 204kB 5.2MB/s eta 0:00:01\r",
      "\u001b[K     |████████████████████▊           | 215kB 5.2MB/s eta 0:00:01\r",
      "\u001b[K     |█████████████████████▊          | 225kB 5.2MB/s eta 0:00:01\r",
      "\u001b[K     |██████████████████████▊         | 235kB 5.2MB/s eta 0:00:01\r",
      "\u001b[K     |███████████████████████▊        | 245kB 5.2MB/s eta 0:00:01\r",
      "\u001b[K     |████████████████████████▊       | 256kB 5.2MB/s eta 0:00:01\r",
      "\u001b[K     |█████████████████████████▊      | 266kB 5.2MB/s eta 0:00:01\r",
      "\u001b[K     |██████████████████████████▊     | 276kB 5.2MB/s eta 0:00:01\r",
      "\u001b[K     |███████████████████████████▊    | 286kB 5.2MB/s eta 0:00:01\r",
      "\u001b[K     |████████████████████████████▊   | 296kB 5.2MB/s eta 0:00:01\r",
      "\u001b[K     |█████████████████████████████▋  | 307kB 5.2MB/s eta 0:00:01\r",
      "\u001b[K     |██████████████████████████████▋ | 317kB 5.2MB/s eta 0:00:01\r",
      "\u001b[K     |███████████████████████████████▋| 327kB 5.2MB/s eta 0:00:01\r",
      "\u001b[K     |████████████████████████████████| 337kB 5.2MB/s \n",
      "\u001b[?25hRequirement already satisfied: pandas in /usr/local/lib/python3.7/dist-packages (from pgmpy) (1.1.5)\n",
      "Requirement already satisfied: scipy in /usr/local/lib/python3.7/dist-packages (from pgmpy) (1.4.1)\n",
      "Requirement already satisfied: pyparsing in /usr/local/lib/python3.7/dist-packages (from pgmpy) (2.4.7)\n",
      "Requirement already satisfied: torch in /usr/local/lib/python3.7/dist-packages (from pgmpy) (1.8.1+cu101)\n",
      "Requirement already satisfied: scikit-learn in /usr/local/lib/python3.7/dist-packages (from pgmpy) (0.22.2.post1)\n",
      "Requirement already satisfied: networkx in /usr/local/lib/python3.7/dist-packages (from pgmpy) (2.5.1)\n",
      "Requirement already satisfied: numpy in /usr/local/lib/python3.7/dist-packages (from pgmpy) (1.19.5)\n",
      "Requirement already satisfied: tqdm in /usr/local/lib/python3.7/dist-packages (from pgmpy) (4.41.1)\n",
      "Requirement already satisfied: statsmodels in /usr/local/lib/python3.7/dist-packages (from pgmpy) (0.10.2)\n",
      "Requirement already satisfied: joblib in /usr/local/lib/python3.7/dist-packages (from pgmpy) (1.0.1)\n",
      "Requirement already satisfied: pytz>=2017.2 in /usr/local/lib/python3.7/dist-packages (from pandas->pgmpy) (2018.9)\n",
      "Requirement already satisfied: python-dateutil>=2.7.3 in /usr/local/lib/python3.7/dist-packages (from pandas->pgmpy) (2.8.1)\n",
      "Requirement already satisfied: typing-extensions in /usr/local/lib/python3.7/dist-packages (from torch->pgmpy) (3.7.4.3)\n",
      "Requirement already satisfied: decorator<5,>=4.3 in /usr/local/lib/python3.7/dist-packages (from networkx->pgmpy) (4.4.2)\n",
      "Requirement already satisfied: patsy>=0.4.0 in /usr/local/lib/python3.7/dist-packages (from statsmodels->pgmpy) (0.5.1)\n",
      "Requirement already satisfied: six>=1.5 in /usr/local/lib/python3.7/dist-packages (from python-dateutil>=2.7.3->pandas->pgmpy) (1.15.0)\n",
      "Installing collected packages: pgmpy\n",
      "Successfully installed pgmpy-0.1.14\n"
     ]
    }
   ],
   "source": [
    "!pip install pgmpy"
   ]
  },
  {
   "cell_type": "code",
   "execution_count": 3,
   "metadata": {
    "colab": {
     "base_uri": "https://localhost:8080/"
    },
    "id": "vLqlrr8_gMME",
    "outputId": "e6534dea-1abc-4797-ca8b-c195f20e2481"
   },
   "outputs": [
    {
     "name": "stderr",
     "output_type": "stream",
     "text": [
      "/usr/local/lib/python3.7/dist-packages/statsmodels/tools/_testing.py:19: FutureWarning: pandas.util.testing is deprecated. Use the functions in the public API at pandas.testing instead.\n",
      "  import pandas.util.testing as tm\n"
     ]
    }
   ],
   "source": [
    "import numpy as np\n",
    "import pandas as pd\n",
    "import csv\n",
    "from pgmpy.estimators import MaximumLikelihoodEstimator\n",
    "from pgmpy.models import BayesianModel\n",
    "from pgmpy.inference import VariableElimination"
   ]
  },
  {
   "cell_type": "code",
   "execution_count": 6,
   "metadata": {
    "colab": {
     "base_uri": "https://localhost:8080/"
    },
    "id": "I2r2eCPehbYC",
    "outputId": "ec566fd9-4c4f-49d7-98a3-22d7ca68ba18"
   },
   "outputs": [
    {
     "name": "stdout",
     "output_type": "stream",
     "text": [
      "The sample instances from the dataset are:\n",
      "   age  sex  cp  trestbps  chol  ...  oldpeak  slope  ca  thal  heartdisease\n",
      "0   63    1   1       145   233  ...      2.3      3   0     6             0\n",
      "1   67    1   4       160   286  ...      1.5      2   3     3             2\n",
      "2   67    1   4       120   229  ...      2.6      2   2     7             1\n",
      "3   37    1   3       130   250  ...      3.5      3   0     3             0\n",
      "4   41    0   2       130   204  ...      1.4      1   0     3             0\n",
      "\n",
      "[5 rows x 14 columns]\n",
      "\n",
      " Attributes and datatypes: \n",
      "age               int64\n",
      "sex               int64\n",
      "cp                int64\n",
      "trestbps          int64\n",
      "chol              int64\n",
      "fbs               int64\n",
      "restecg           int64\n",
      "thalach           int64\n",
      "exang             int64\n",
      "oldpeak         float64\n",
      "slope             int64\n",
      "ca               object\n",
      "thal             object\n",
      "heartdisease      int64\n",
      "dtype: object\n"
     ]
    }
   ],
   "source": [
    "trainingData = pd.read_csv('/content/bayesian-dataset.csv')\n",
    "trainingData = trainingData.replace('?',np.nan)\n",
    "print('The sample instances from the dataset are:')\n",
    "print(trainingData.head())\n",
    "print('\\n Attributes and datatypes: ')\n",
    "print(trainingData.dtypes)"
   ]
  },
  {
   "cell_type": "code",
   "execution_count": 7,
   "metadata": {
    "colab": {
     "base_uri": "https://localhost:8080/"
    },
    "id": "pXJaKYA_iuxw",
    "outputId": "68600f26-9c39-4af9-8dde-f0242e247d6c"
   },
   "outputs": [
    {
     "name": "stdout",
     "output_type": "stream",
     "text": [
      "\n",
      " Learning CPD using Maximum likelihood estimators\n",
      "\n",
      " Inferencing with Bayesian Network:\n"
     ]
    }
   ],
   "source": [
    "model = BayesianModel([('age','heartdisease'),('sex','heartdisease'),('exang','heartdisease'),('cp','heartdisease'),('heartdisease','restecg'),('heartdisease','chol')])\n",
    "print('\\n Learning CPD using Maximum likelihood estimators')\n",
    "model.fit(trainingData,estimator=MaximumLikelihoodEstimator)\n",
    "print('\\n Inferencing with Bayesian Network:')\n",
    "HeartDiseasetest_infer = VariableElimination(model)"
   ]
  },
  {
   "cell_type": "code",
   "execution_count": 8,
   "metadata": {
    "colab": {
     "base_uri": "https://localhost:8080/"
    },
    "id": "455NuSRkjPgF",
    "outputId": "7da531c5-3c20-42b8-a98a-2c443622710e"
   },
   "outputs": [
    {
     "name": "stderr",
     "output_type": "stream",
     "text": [
      "Finding Elimination Order: : 100%|██████████| 5/5 [00:00<00:00, 741.91it/s]\n",
      "Eliminating: exang: 100%|██████████| 5/5 [00:00<00:00, 137.58it/s]"
     ]
    },
    {
     "name": "stdout",
     "output_type": "stream",
     "text": [
      "\n",
      " 1.Probability of HeartDisease given evidence = restecg (Rest ECG): 1\n",
      "+-----------------+---------------------+\n",
      "| heartdisease    |   phi(heartdisease) |\n",
      "+=================+=====================+\n",
      "| heartdisease(0) |              0.1012 |\n",
      "+-----------------+---------------------+\n",
      "| heartdisease(1) |              0.0000 |\n",
      "+-----------------+---------------------+\n",
      "| heartdisease(2) |              0.2392 |\n",
      "+-----------------+---------------------+\n",
      "| heartdisease(3) |              0.2015 |\n",
      "+-----------------+---------------------+\n",
      "| heartdisease(4) |              0.4581 |\n",
      "+-----------------+---------------------+\n"
     ]
    },
    {
     "name": "stderr",
     "output_type": "stream",
     "text": [
      "\n"
     ]
    }
   ],
   "source": [
    "print('\\n 1.Probability of HeartDisease given evidence = restecg (Rest ECG): 1')\n",
    "q1 = HeartDiseasetest_infer.query(variables = ['heartdisease'], evidence={'restecg':1})\n",
    "print(q1)"
   ]
  },
  {
   "cell_type": "code",
   "execution_count": 9,
   "metadata": {
    "colab": {
     "base_uri": "https://localhost:8080/"
    },
    "id": "OBzv9xBZizyv",
    "outputId": "acb56666-0d5b-4504-d8a7-4413be32c0db"
   },
   "outputs": [
    {
     "name": "stderr",
     "output_type": "stream",
     "text": [
      "/usr/local/lib/python3.7/dist-packages/pgmpy/factors/discrete/DiscreteFactor.py:519: UserWarning: Found unknown state name. Trying to switch to using all state names as state numbers\n",
      "  \"Found unknown state name. Trying to switch to using all state names as state numbers\"\n",
      "Finding Elimination Order: : 100%|██████████| 5/5 [00:00<00:00, 396.13it/s]\n",
      "Eliminating: exang: 100%|██████████| 5/5 [00:00<00:00, 117.84it/s]"
     ]
    },
    {
     "name": "stdout",
     "output_type": "stream",
     "text": [
      "\n",
      " 2.Probability of HeartDisease given evidence = chol (Cholestorol): 100 \n",
      "+-----------------+---------------------+\n",
      "| heartdisease    |   phi(heartdisease) |\n",
      "+=================+=====================+\n",
      "| heartdisease(0) |              1.0000 |\n",
      "+-----------------+---------------------+\n",
      "| heartdisease(1) |              0.0000 |\n",
      "+-----------------+---------------------+\n",
      "| heartdisease(2) |              0.0000 |\n",
      "+-----------------+---------------------+\n",
      "| heartdisease(3) |              0.0000 |\n",
      "+-----------------+---------------------+\n",
      "| heartdisease(4) |              0.0000 |\n",
      "+-----------------+---------------------+\n"
     ]
    },
    {
     "name": "stderr",
     "output_type": "stream",
     "text": [
      "\n"
     ]
    }
   ],
   "source": [
    "print('\\n 2.Probability of HeartDisease given evidence = chol (Cholestorol): 100 ')\n",
    "q2 = HeartDiseasetest_infer.query(variables = ['heartdisease'], evidence={'chol':100})\n",
    "print(q2)"
   ]
  }
 ],
 "metadata": {
  "colab": {
   "name": "bayesian_network.ipynb",
   "provenance": []
  },
  "kernelspec": {
   "display_name": "Python 3 (ipykernel)",
   "language": "python",
   "name": "python3"
  },
  "language_info": {
   "codemirror_mode": {
    "name": "ipython",
    "version": 3
   },
   "file_extension": ".py",
   "mimetype": "text/x-python",
   "name": "python",
   "nbconvert_exporter": "python",
   "pygments_lexer": "ipython3",
   "version": "3.9.7"
  }
 },
 "nbformat": 4,
 "nbformat_minor": 1
}
